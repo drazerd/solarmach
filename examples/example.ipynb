{
 "cells": [
  {
   "cell_type": "markdown",
   "id": "0",
   "metadata": {},
   "source": [
    "# Usage\n",
    "\n",
    "First, importing:"
   ]
  },
  {
   "cell_type": "code",
   "execution_count": null,
   "id": "1",
   "metadata": {
    "cell_id": "7402f6e0-4a97-43a0-b0fe-2655178d043c",
    "deepnote_cell_height": 80.66667175292969,
    "deepnote_cell_type": "code",
    "deepnote_to_be_reexecuted": false,
    "execution_millis": 2687,
    "execution_start": 1651078495604,
    "owner_user_id": "4f6be6d8-d59a-43a4-813e-a2e8e4a8aed8",
    "source_hash": "6f3c0789"
   },
   "outputs": [],
   "source": [
    "from solarmach import SolarMACH, print_body_list, get_sw_speed, get_gong_map, calculate_pfss_solution"
   ]
  },
  {
   "cell_type": "markdown",
   "id": "2",
   "metadata": {
    "tags": []
   },
   "source": [
    "---\n",
    "## 1. Minimal example <a class=\"anchor\" id=\"Minimal_example\"></a>\n",
    "\n",
    "Necessary options are a list of wanted spacecraft/bodies and the date of interest.\n",
    "\n",
    "Note that since version 0.2.3, you don't need to provide a list with solar wind speeds (in km/s) corresponding to the spacecraft/bodies, but you can. If `vsw_list` is not provided (or as an empty list, `vsw_list=[]`), it is automatically tried to obtain measured solar wind speeds per spacecraft. If this does not succeed for a spacecraft, a default solar wind speed of 400 km/s is assumed (this can be adjusted with `default_vsw`, e.g., `default_vsw=300`)."
   ]
  },
  {
   "cell_type": "code",
   "execution_count": null,
   "id": "3",
   "metadata": {},
   "outputs": [],
   "source": [
    "body_list = ['Earth', 'Solar Orbiter', 'PSP']\n",
    "date = '2022-3-1 12:00:00'"
   ]
  },
  {
   "cell_type": "markdown",
   "id": "4",
   "metadata": {},
   "source": [
    "Initialize the SolarMACH object for these options:"
   ]
  },
  {
   "cell_type": "code",
   "execution_count": null,
   "id": "5",
   "metadata": {},
   "outputs": [
    {
     "name": "stdout",
     "output_type": "stream",
     "text": [
      "No solar wind speeds defined, trying to obtain measurements...\n",
      "Using 'ACE' measurements for 'Earth'.\n"
     ]
    }
   ],
   "source": [
    "sm1 = SolarMACH(date=date, body_list=body_list)"
   ]
  },
  {
   "cell_type": "markdown",
   "id": "6",
   "metadata": {},
   "source": [
    "And produce the final plot:"
   ]
  },
  {
   "cell_type": "code",
   "execution_count": null,
   "id": "7",
   "metadata": {},
   "outputs": [],
   "source": [
    "sm1.plot(plot_sun_body_line=True)"
   ]
  },
  {
   "cell_type": "markdown",
   "id": "8",
   "metadata": {},
   "source": [
    "This plot shows a view from the top on the ecliptic plane with the Sun in the center and the Earth (indicated by green symbol) at \"6 o'clock\". The solid lines give estimations of single field lines of an ideal Parker heliospheric magnetic field connecting the corresponding observers to the Sun, while the dashed lines just indicate the line of sight from each of them to the Sun."
   ]
  },
  {
   "cell_type": "markdown",
   "id": "9",
   "metadata": {},
   "source": [
    "If you do not want or need that the solar wind speeds are obtained from online sources, you can manually define them with `vsw_list`. \n",
    "Note that each speed corresponds position-wise with the corresponding spacecraft/bodies list:"
   ]
  },
  {
   "cell_type": "code",
   "execution_count": null,
   "id": "10",
   "metadata": {},
   "outputs": [],
   "source": [
    "vsw_list = [400, 400, 400]    # position-sensitive solar wind speed per body in body_list\n",
    "body_list = ['Earth', 'Solar Orbiter', 'PSP']\n",
    "date = '2022-3-1 12:00:00'\n",
    "\n",
    "sm1a = SolarMACH(date=date, body_list=body_list, vsw_list=vsw_list)\n",
    "sm1a.plot(plot_sun_body_line=True)"
   ]
  },
  {
   "cell_type": "markdown",
   "id": "11",
   "metadata": {},
   "source": [
    "---\n",
    "\n",
    "## 2. Example with all the details <a class=\"anchor\" id=\"Example_all_details\"></a>\n",
    "\n",
    "First, get a list of available bodies/spacecraft:"
   ]
  },
  {
   "cell_type": "code",
   "execution_count": null,
   "id": "12",
   "metadata": {
    "cell_id": "00001-e5d99712-b047-4321-bed1-16c7c57149c5",
    "deepnote_cell_height": 209.6666717529297,
    "deepnote_cell_type": "code",
    "deepnote_to_be_reexecuted": false,
    "execution_millis": 16,
    "execution_start": 1651078498295,
    "source_hash": "a1018188"
   },
   "outputs": [
    {
     "name": "stdout",
     "output_type": "stream",
     "text": [
      "Index(['Earth', 'ACE', 'BepiColombo', 'Cassini', 'Europa Clipper', 'JUICE',\n",
      "       'Juno', 'Jupiter', 'L1', 'Mars', 'Mars Express', 'MAVEN', 'Mercury',\n",
      "       'MESSENGER', 'PSP', 'Pioneer10', 'Pioneer11', 'Rosetta', 'SOHO',\n",
      "       'Solar Orbiter', 'STEREO B', 'STEREO A', 'Ulysses', 'Venus', 'Voyager1',\n",
      "       'Voyager2', 'WIND'],\n",
      "      dtype='object', name='Key')\n"
     ]
    }
   ],
   "source": [
    "print(print_body_list().index)"
   ]
  },
  {
   "cell_type": "markdown",
   "id": "13",
   "metadata": {},
   "source": [
    "Provide the necessary options, this time for more spacecraft:"
   ]
  },
  {
   "cell_type": "code",
   "execution_count": null,
   "id": "14",
   "metadata": {
    "cell_id": "00002-ae0b250b-5549-443b-ad6c-6e040c68b94d",
    "deepnote_cell_height": 332.66668701171875,
    "deepnote_cell_type": "code",
    "deepnote_to_be_reexecuted": false,
    "execution_millis": 1,
    "execution_start": 1651078570451,
    "source_hash": "b98fe90a"
   },
   "outputs": [],
   "source": [
    "body_list = ['Mercury', 'Venus', 'Earth', 'Mars', 'STEREO A', 'STEREO B', 'Solar Orbiter', 'PSP', 'BepiColombo']\n",
    "date = '2021-6-1 12:00:00'"
   ]
  },
  {
   "cell_type": "markdown",
   "id": "15",
   "metadata": {},
   "source": [
    "Leave the position-sensitive solar wind speed list empty, so that they are obtained from actual measurements, and define the solar wind speed that should be used if no measurements can be obtained for a spacecraft:"
   ]
  },
  {
   "cell_type": "code",
   "execution_count": null,
   "id": "16",
   "metadata": {},
   "outputs": [],
   "source": [
    "vsw_list = []\n",
    "default_vsw = 350  # km/s"
   ]
  },
  {
   "cell_type": "markdown",
   "id": "17",
   "metadata": {},
   "source": [
    "The default coordinate system is [Carrington coordinates](https://docs.sunpy.org/en/stable/generated/api/sunpy.coordinates.frames.HeliographicCarrington.html), alternatively one could select the Earth-centered [Stonyhurst coordinate](https://docs.sunpy.org/en/stable/generated/api/sunpy.coordinates.frames.HeliographicStonyhurst.html) system:"
   ]
  },
  {
   "cell_type": "code",
   "execution_count": null,
   "id": "18",
   "metadata": {},
   "outputs": [],
   "source": [
    "coord_sys = 'Carrington'     # 'Carrington' (default) or 'Stoneyhurst'"
   ]
  },
  {
   "cell_type": "markdown",
   "id": "19",
   "metadata": {},
   "source": [
    "Now we also want to indicate the position and direction of a flare, and the (assumed) solar wind speed at its location:"
   ]
  },
  {
   "cell_type": "code",
   "execution_count": null,
   "id": "20",
   "metadata": {},
   "outputs": [],
   "source": [
    "reference_long = 0            # Carrington longitude of reference (None to omit)\n",
    "reference_lat = 0             # Carrington latitude of reference (None to omit)\n",
    "reference_vsw = 400           # define solar wind speed at reference in km/s"
   ]
  },
  {
   "cell_type": "markdown",
   "id": "21",
   "metadata": {},
   "source": [
    "In addition, we explicitly provide all availabe plotting options:"
   ]
  },
  {
   "cell_type": "code",
   "execution_count": null,
   "id": "22",
   "metadata": {},
   "outputs": [],
   "source": [
    "plot_spirals = True           # plot Parker spirals for each body\n",
    "plot_sun_body_line = False    # plot straight line between Sun and body\n",
    "long_offset = 0               # longitudinal offset for polar plot; defines where Earth's longitude is (by default 270, i.e., at \"6 o'clock\")\n",
    "transparent = False           # make output figure background transparent\n",
    "markers = 'numbers'           # use 'numbers' or 'letters' for the body markers (use False for colored squares)\n",
    "filename = f'Solar-MACH_{date.replace(\" \", \"_\")}.png'  # define filename of output figure"
   ]
  },
  {
   "cell_type": "markdown",
   "id": "23",
   "metadata": {},
   "source": [
    "Finally, initializing and plotting with these options. If `outfile` is provided, the plot will be saved next to the Notebook with the provided `filename`."
   ]
  },
  {
   "cell_type": "code",
   "execution_count": null,
   "id": "24",
   "metadata": {
    "cell_id": "00005-73d9722c-308f-45be-a5db-bb9f3139240f",
    "deepnote_cell_height": 761.6666870117188,
    "deepnote_cell_type": "code",
    "deepnote_output_heights": [
     611
    ],
    "deepnote_to_be_reexecuted": false,
    "execution_millis": 1807,
    "execution_start": 1651078573406,
    "source_hash": "7593a321"
   },
   "outputs": [
    {
     "name": "stderr",
     "output_type": "stream",
     "text": [
      "/Users/jagies/miniforge3/envs/serpentine/lib/python3.12/site-packages/speasy/core/data_containers.py:17: UserWarning: no explicit representation of timezones available for np.datetime64\n",
      "  return np.searchsorted(time, np.datetime64(key, 'ns'), side='left')\n",
      "2025-05-06 11:52:35 - speasy.core.dataprovider - WARNING: You are requesting vpbulk_stb outside of its definition range <DateTimeRange: 2007-03-01T00:00:12+00:00 -> 2014-10-31T23:59:30+00:00>\n"
     ]
    },
    {
     "name": "stdout",
     "output_type": "stream",
     "text": [
      "No solar wind speeds defined, trying to obtain measurements...\n",
      "Body 'Mercury' not supported, assuming default Vsw value of 400.0 km/s.\n",
      "Body 'Venus' not supported, assuming default Vsw value of 400.0 km/s.\n",
      "Using 'ACE' measurements for 'Earth'.\n",
      "Body 'Mars' not supported, assuming default Vsw value of 400.0 km/s.\n",
      "No Vsw data found for 'STEREO B' on 2021-06-01 12:00:00, assuming default Vsw value of 400.0 km/s.\n",
      "No Vsw data found for 'Solar Orbiter' on 2021-06-01 12:00:00, assuming default Vsw value of 400.0 km/s.\n",
      "Body 'BepiColombo' not supported, assuming default Vsw value of 400.0 km/s.\n"
     ]
    }
   ],
   "source": [
    "sm2 = SolarMACH(date=date, body_list=body_list, vsw_list=vsw_list,\n",
    "                reference_long=reference_long, reference_lat=reference_lat,\n",
    "                coord_sys=coord_sys)\n",
    "\n",
    "sm2.plot(plot_spirals=plot_spirals,\n",
    "         plot_sun_body_line=plot_sun_body_line,\n",
    "         long_offset=long_offset,\n",
    "         reference_vsw=reference_vsw,\n",
    "         transparent=transparent,\n",
    "         markers=markers,\n",
    "         outfile=filename\n",
    "         )"
   ]
  },
  {
   "cell_type": "markdown",
   "id": "25",
   "metadata": {},
   "source": [
    "All the data can also be obtained as a Pandas DataFrame for further use. Note that here you can also see the actually measured solar wind speeds at some spacecraft (`Vsw`):"
   ]
  },
  {
   "cell_type": "code",
   "execution_count": null,
   "id": "26",
   "metadata": {},
   "outputs": [],
   "source": [
    "df = sm2.coord_table\n",
    "display(df)"
   ]
  },
  {
   "cell_type": "code",
   "execution_count": null,
   "id": "27",
   "metadata": {},
   "outputs": [
    {
     "data": {
      "text/plain": [
       "array([0.45657717, 0.71866253, 1.0140839 , 1.65743876, 0.9633026 ,\n",
       "       1.08601488, 0.95207518, 0.7155775 , 0.80726552])"
      ]
     },
     "execution_count": null,
     "metadata": {},
     "output_type": "execute_result"
    }
   ],
   "source": [
    "df['Heliocentric distance (AU)'].values"
   ]
  },
  {
   "cell_type": "markdown",
   "id": "28",
   "metadata": {},
   "source": [
    "---\n",
    "\n",
    "## 3. Example using Stonyhurst coordinates for reference <a class=\"anchor\" id=\"Example_stonyhurst\"></a>"
   ]
  },
  {
   "cell_type": "markdown",
   "id": "29",
   "metadata": {},
   "source": [
    "Let's take a look at the situation at the first ground-level enhancement (GLE) of solar cycle 25 on 28 October 2021 \n",
    "\n",
    "First, we just provide some options as before:"
   ]
  },
  {
   "cell_type": "code",
   "execution_count": null,
   "id": "30",
   "metadata": {},
   "outputs": [],
   "source": [
    "body_list = ['STEREO-A', 'Earth', 'BepiColombo', 'PSP', 'Solar Orbiter', 'Mars']\n",
    "vsw_list = [340, 300, 350, 350, 320, 350]        # position-sensitive solar wind speed per body in body_list\n",
    "date = '2021-10-28 15:20:00'\n",
    "coord_sys = 'Stoneyhurst'\n",
    "\n",
    "# optional parameters\n",
    "plot_spirals = True           # plot Parker spirals for each body\n",
    "plot_sun_body_line = True     # plot straight line between Sun and body\n",
    "transparent = False           # make output figure background transparent\n",
    "markers = 'letters'           # use 'numbers' or 'letters' for the body markers (use False for colored squares)\n",
    "filename = f'Solar-MACH_{date.replace(\" \", \"_\")}.png'  # define filename of output figure"
   ]
  },
  {
   "cell_type": "markdown",
   "id": "31",
   "metadata": {},
   "source": [
    "But now we want to provide the coordinates of the flare in [Stonyhurst coordinates](https://docs.sunpy.org/en/stable/generated/api/sunpy.coordinates.frames.HeliographicStonyhurst.html) (instead of [Carrington](https://docs.sunpy.org/en/stable/generated/api/sunpy.coordinates.frames.HeliographicCarrington.html))."
   ]
  },
  {
   "cell_type": "code",
   "execution_count": null,
   "id": "32",
   "metadata": {
    "cell_id": "00003-96c86645-ad54-4586-8633-6e86921fa2b4",
    "deepnote_cell_height": 260.66668701171875,
    "deepnote_cell_type": "code",
    "deepnote_to_be_reexecuted": false,
    "execution_millis": 0,
    "execution_start": 1651078570452,
    "source_hash": "38682b3c"
   },
   "outputs": [],
   "source": [
    "reference_long = 2            # Stonyhurst longitude of reference (None to omit)\n",
    "reference_lat = 26            # Stonyhurst latitude of reference (None to omit)\n",
    "reference_vsw = 300           # define solar wind speed at reference"
   ]
  },
  {
   "cell_type": "markdown",
   "id": "33",
   "metadata": {},
   "source": [
    "Finally, initializing and plotting with these options:"
   ]
  },
  {
   "cell_type": "code",
   "execution_count": null,
   "id": "34",
   "metadata": {},
   "outputs": [],
   "source": [
    "sm3 = SolarMACH(date=date, body_list=body_list, vsw_list=vsw_list,\n",
    "                reference_long=reference_long, reference_lat=reference_lat,\n",
    "                coord_sys=coord_sys)\n",
    "sm3.plot(plot_spirals=plot_spirals,\n",
    "         plot_sun_body_line=plot_sun_body_line,\n",
    "         reference_vsw=reference_vsw,\n",
    "         transparent=transparent,\n",
    "         markers=markers,\n",
    "         outfile=filename\n",
    "         )"
   ]
  },
  {
   "cell_type": "markdown",
   "id": "35",
   "metadata": {},
   "source": [
    "---\n",
    "## 4. Only obtain data as Pandas DataFrame <a class=\"anchor\" id=\"only_dataframe\"></a>\n",
    "\n",
    "We can also just obtain a table with the spatial data, without producing a plot at all."
   ]
  },
  {
   "cell_type": "markdown",
   "id": "36",
   "metadata": {},
   "source": [
    "First provide necessary options:"
   ]
  },
  {
   "cell_type": "code",
   "execution_count": null,
   "id": "37",
   "metadata": {},
   "outputs": [],
   "source": [
    "body_list = ['STEREO-A', 'Earth', 'BepiColombo', 'PSP', 'Solar Orbiter', 'Mars']\n",
    "vsw_list = []  # leave empty to obtain measurements\n",
    "date = '2022-6-1 12:00:00'"
   ]
  },
  {
   "cell_type": "markdown",
   "id": "38",
   "metadata": {},
   "source": [
    "Then initialize `SolarMACH` and obtain data as Pandas DataFrame:"
   ]
  },
  {
   "cell_type": "code",
   "execution_count": null,
   "id": "39",
   "metadata": {
    "cell_id": "00006-a6344470-0b91-4079-9aad-3f2a1b5a41d0",
    "deepnote_cell_height": 463.33331298828125,
    "deepnote_cell_type": "code",
    "deepnote_to_be_reexecuted": false,
    "execution_millis": 37,
    "execution_start": 1651078503509,
    "source_hash": "a2c2390b"
   },
   "outputs": [
    {
     "name": "stdout",
     "output_type": "stream",
     "text": [
      "No solar wind speeds defined, trying to obtain measurements...\n",
      "Using 'ACE' measurements for 'Earth'.\n",
      "Body 'BepiColombo' not supported, assuming default Vsw value of 400.0 km/s.\n"
     ]
    },
    {
     "name": "stderr",
     "output_type": "stream",
     "text": [
      "/Users/jagies/miniforge3/envs/serpentine/lib/python3.12/site-packages/speasy/core/data_containers.py:17: UserWarning: no explicit representation of timezones available for np.datetime64\n",
      "  return np.searchsorted(time, np.datetime64(key, 'ns'), side='left')\n"
     ]
    },
    {
     "name": "stdout",
     "output_type": "stream",
     "text": [
      "No Vsw data found for 'Parker Solar Probe' on 2022-06-01 12:00:00, assuming default Vsw value of 400.0 km/s.\n",
      "No Vsw data found for 'Solar Orbiter' on 2022-06-01 12:00:00, assuming default Vsw value of 400.0 km/s.\n",
      "Body 'Mars' not supported, assuming default Vsw value of 400.0 km/s.\n"
     ]
    }
   ],
   "source": [
    "sm4 = SolarMACH(date=date, body_list=body_list, vsw_list=vsw_list)\n",
    "df = sm4.coord_table\n",
    "display(df)"
   ]
  },
  {
   "cell_type": "markdown",
   "id": "40",
   "metadata": {},
   "source": [
    "If we also provide the `reference` information, it will be available in the table, too:"
   ]
  },
  {
   "cell_type": "code",
   "execution_count": null,
   "id": "41",
   "metadata": {
    "cell_id": "00007-9b412cbd-df61-4c77-a27b-dd27521a3415",
    "deepnote_cell_height": 80.66667175292969,
    "deepnote_cell_type": "code",
    "deepnote_to_be_reexecuted": false,
    "execution_millis": 0,
    "execution_start": 1651078503589,
    "source_hash": "b623e53d"
   },
   "outputs": [
    {
     "name": "stdout",
     "output_type": "stream",
     "text": [
      "No solar wind speeds defined, trying to obtain measurements...\n",
      "Using 'ACE' measurements for 'Earth'.\n",
      "Body 'BepiColombo' not supported, assuming default Vsw value of 400.0 km/s.\n",
      "No Vsw data found for 'Parker Solar Probe' on 2022-06-01 12:00:00, assuming default Vsw value of 400.0 km/s.\n",
      "No Vsw data found for 'Solar Orbiter' on 2022-06-01 12:00:00, assuming default Vsw value of 400.0 km/s.\n",
      "Body 'Mars' not supported, assuming default Vsw value of 400.0 km/s.\n"
     ]
    },
    {
     "name": "stderr",
     "output_type": "stream",
     "text": [
      "/Users/jagies/miniforge3/envs/serpentine/lib/python3.12/site-packages/speasy/core/data_containers.py:17: UserWarning: no explicit representation of timezones available for np.datetime64\n",
      "  return np.searchsorted(time, np.datetime64(key, 'ns'), side='left')\n"
     ]
    }
   ],
   "source": [
    "sm4 = SolarMACH(date=date, body_list=body_list, vsw_list=vsw_list,\n",
    "                reference_long=273, reference_lat=7)\n",
    "df = sm4.coord_table\n",
    "display(df)"
   ]
  },
  {
   "cell_type": "markdown",
   "id": "42",
   "metadata": {},
   "source": [
    "Note again that by default all coordinates are given in Carrington coordinates (as indicated in the column titles). To have this data in Stoneyhurst coordinates, define the `coord_sys` when initilizing `SolarMACH`:"
   ]
  },
  {
   "cell_type": "code",
   "execution_count": null,
   "id": "43",
   "metadata": {},
   "outputs": [
    {
     "name": "stdout",
     "output_type": "stream",
     "text": [
      "No solar wind speeds defined, trying to obtain measurements...\n",
      "Using 'ACE' measurements for 'Earth'.\n",
      "Body 'BepiColombo' not supported, assuming default Vsw value of 400.0 km/s.\n",
      "No Vsw data found for 'Parker Solar Probe' on 2022-06-01 12:00:00, assuming default Vsw value of 400.0 km/s.\n",
      "No Vsw data found for 'Solar Orbiter' on 2022-06-01 12:00:00, assuming default Vsw value of 400.0 km/s.\n",
      "Body 'Mars' not supported, assuming default Vsw value of 400.0 km/s.\n"
     ]
    },
    {
     "name": "stderr",
     "output_type": "stream",
     "text": [
      "/Users/jagies/miniforge3/envs/serpentine/lib/python3.12/site-packages/speasy/core/data_containers.py:17: UserWarning: no explicit representation of timezones available for np.datetime64\n",
      "  return np.searchsorted(time, np.datetime64(key, 'ns'), side='left')\n"
     ]
    }
   ],
   "source": [
    "sm4a = SolarMACH(date=date, body_list=body_list, vsw_list=vsw_list, coord_sys='Stoneyhurst')\n",
    "df = sm4a.coord_table\n",
    "display(df)"
   ]
  },
  {
   "cell_type": "markdown",
   "id": "44",
   "metadata": {},
   "source": [
    "---\n",
    "## 5. Advanced plotting options <a class=\"anchor\" id=\"plotting_options\"></a>"
   ]
  },
  {
   "cell_type": "markdown",
   "id": "45",
   "metadata": {},
   "source": [
    "Since version 0.1.6, `solarmach` provides the option to color a cone-shaped area or an area between two Parker spirals in the heliographic plane. For this, `SolarMACH.plot()` has three new options:\n",
    "\n",
    "- **long_sector**: list of 2 numbers: start and stop longitude of a shaded area; e.g. `[350, 20]` to get a cone from 350 to 20 degree longitude (for long_sector_vsw=None`).\n",
    "- **long_sector_vsw**: list of 2 numbers: Solar wind speed used to calculate Parker spirals (at start and stop longitude provided by `long_sector`) between which a reference cone should be drawn; e.g. `[400, 400]` to assume for both edges of the fill area a Parker spiral produced by solar wind speeds of 400 km/s. If `None`, instead of Parker spirals, straight lines are used, i.e. a simple cone will be plotted. By default, `None`.\n",
    "- **long_sector_color**: String defining the matplotlib color used for the shading defined by `long_sector`. By default, `'red'`.\n",
    "\n",
    "In addition, it is now possible to plot a set of evenly distributed Parker spirals in the background, see [5.3 Example 3: plot background Parker spirals](#5.3-Example-3:-plot-background-Parker-spirals).\n",
    "\n",
    "### 5.1 Example 1: plot cone-shaped area"
   ]
  },
  {
   "cell_type": "code",
   "execution_count": null,
   "id": "46",
   "metadata": {},
   "outputs": [],
   "source": [
    "body_list = ['STEREO-A', 'Earth', 'BepiColombo', 'PSP', 'Solar Orbiter']\n",
    "vsw_list = [400, 400, 400, 400, 400]\n",
    "date = '2022-3-11 12:00:00'\n",
    "\n",
    "sm5a = SolarMACH(date=date, body_list=body_list, vsw_list=vsw_list)\n",
    "sm5a.plot(long_sector=[290, 328], long_sector_vsw=None, long_sector_color='red')"
   ]
  },
  {
   "cell_type": "markdown",
   "id": "47",
   "metadata": {},
   "source": [
    "### 5.2 Example 2: shade area between two Parker spirals"
   ]
  },
  {
   "cell_type": "code",
   "execution_count": null,
   "id": "48",
   "metadata": {},
   "outputs": [],
   "source": [
    "body_list = ['STEREO-A', 'Earth', 'BepiColombo', 'PSP', 'Solar Orbiter']\n",
    "vsw_list = [400, 400, 400, 400, 400]\n",
    "date = '2022-3-11 12:00:00'\n",
    "\n",
    "sm5b = SolarMACH(date=date, body_list=body_list, vsw_list=vsw_list)\n",
    "sm5b.plot(long_sector=[290, 328], long_sector_vsw=[400,600], long_sector_color='cyan')"
   ]
  },
  {
   "cell_type": "markdown",
   "id": "49",
   "metadata": {},
   "source": [
    "Note that there still is a bug if the speeds in `long_sector_vsw` differ to some extent; then the plotting might not work as intended."
   ]
  },
  {
   "cell_type": "markdown",
   "id": "50",
   "metadata": {},
   "source": [
    "### 5.3 Example 3: plot background Parker spirals\n",
    "\n",
    "Since version 0.1.6, `solarmach` provides the option to plot a set of evenly distributed Parker spirals in the background, using the option `background_spirals` in `SolarMACH.plot()`:\n",
    "\n",
    "**background_spirals**: list of 2 numbers (and 3 optional strings). If defined, plot evenly distributed Parker spirals over 360°. `background_spirals[0]` defines the number of spirals, `background_spirals[1]` the solar wind speed in km/s used for their calculation. \n",
    "\n",
    "Optionally, `background_spirals[2]`, `background_spirals[3]`, and `background_spirals[4]` change the plotting line style, color, and alpha setting, respectively (default values `':'`, `'grey'`, and `0.1`). "
   ]
  },
  {
   "cell_type": "code",
   "execution_count": null,
   "id": "51",
   "metadata": {},
   "outputs": [],
   "source": [
    "body_list = ['STEREO-A', 'Earth', 'BepiColombo', 'PSP', 'Solar Orbiter']\n",
    "vsw_list = [400, 400, 400, 400, 400]\n",
    "date = '2022-3-11 12:00:00'\n",
    "\n",
    "sm = SolarMACH(date=date, body_list=body_list, vsw_list=vsw_list)\n",
    "sm.plot(background_spirals=[6, 600])"
   ]
  },
  {
   "cell_type": "code",
   "execution_count": null,
   "id": "52",
   "metadata": {},
   "outputs": [],
   "source": [
    "body_list = ['STEREO-A', 'Earth', 'BepiColombo', 'PSP', 'Solar Orbiter']\n",
    "vsw_list = [400, 400, 400, 400, 400]\n",
    "date = '2022-3-11 12:00:00'\n",
    "\n",
    "sm = SolarMACH(date=date, body_list=body_list, vsw_list=vsw_list)\n",
    "sm.plot(background_spirals=[6, 600, '-', 'red', 0.5])"
   ]
  },
  {
   "cell_type": "markdown",
   "id": "53",
   "metadata": {},
   "source": [
    "---\n",
    "## 6. Advanced: edit the figure <a class=\"anchor\" id=\"edit_figure\"></a>\n",
    "Let's produce again the figure for the Oct 2021 GLE event."
   ]
  },
  {
   "cell_type": "code",
   "execution_count": null,
   "id": "54",
   "metadata": {},
   "outputs": [],
   "source": [
    "body_list = ['STEREO-A', 'Earth', 'BepiColombo', 'PSP', 'Solar Orbiter', 'Mars']\n",
    "vsw_list = [340, 300, 350, 350, 320, 350]  # position-sensitive solar wind speed per body in body_list\n",
    "date = '2021-10-28 15:20:00'\n",
    "reference_long = 130           # Carrington longitude of reference (None to omit)\n",
    "reference_lat = 0             # Carrington latitude of reference (None to omit)\n",
    "reference_vsw = 400           # define solar wind speed at reference\n",
    "sm6 = SolarMACH(date=date, body_list=body_list, vsw_list=vsw_list,\n",
    "                reference_long=reference_long, reference_lat=reference_lat)"
   ]
  },
  {
   "cell_type": "markdown",
   "id": "55",
   "metadata": {},
   "source": [
    "But now we prodive the option `return_plot_object=True` to the `plot()` call, so that the matplotlib figure and axis object will be returned:"
   ]
  },
  {
   "cell_type": "code",
   "execution_count": null,
   "id": "56",
   "metadata": {},
   "outputs": [],
   "source": [
    "fig, ax = sm6.plot(plot_spirals=True,\n",
    "                   plot_sun_body_line=True,\n",
    "                   transparent=False,\n",
    "                   markers='numbers',\n",
    "                   return_plot_object=True\n",
    "                  )"
   ]
  },
  {
   "cell_type": "markdown",
   "id": "57",
   "metadata": {},
   "source": [
    "Now we can make some post-adjustments to the figure (requires of course some Python knowledge):"
   ]
  },
  {
   "cell_type": "code",
   "execution_count": null,
   "id": "58",
   "metadata": {},
   "outputs": [
    {
     "data": {
      "text/plain": [
       "Text(0.5, 1.0, \"What's that?! A new title!\")"
      ]
     },
     "execution_count": null,
     "metadata": {},
     "output_type": "execute_result"
    }
   ],
   "source": [
    "ax.set_title(\"What's that?! A new title!\", pad=60)"
   ]
  },
  {
   "cell_type": "code",
   "execution_count": null,
   "id": "59",
   "metadata": {},
   "outputs": [],
   "source": [
    "fig"
   ]
  },
  {
   "cell_type": "markdown",
   "id": "60",
   "metadata": {},
   "source": [
    "We can also add another red reference arrow to the figure, e.g., to indicate another flare:"
   ]
  },
  {
   "cell_type": "code",
   "execution_count": null,
   "id": "61",
   "metadata": {},
   "outputs": [],
   "source": [
    "import numpy as np\n",
    "\n",
    "new_reference_long = 60\n",
    "\n",
    "arrow_dist = min([sm6.max_dist/3.2, 2.])  # arrow length\n",
    "ax.arrow(np.deg2rad(new_reference_long), 0.01, 0, arrow_dist, head_width=0.2, head_length=0.07, edgecolor='red', facecolor='red', lw=1.8, zorder=5, overhang=0.2)\n",
    "ax.set_rmax(sm6.max_dist + 0.3)  # re-set max. radial dist. of plot"
   ]
  },
  {
   "cell_type": "code",
   "execution_count": null,
   "id": "62",
   "metadata": {},
   "outputs": [],
   "source": [
    "fig"
   ]
  },
  {
   "cell_type": "markdown",
   "id": "63",
   "metadata": {},
   "source": [
    "---\n",
    "## 7. Ideas for further usage <a class=\"anchor\" id=\"ideas_further_usage\"></a>"
   ]
  },
  {
   "cell_type": "markdown",
   "id": "64",
   "metadata": {},
   "source": [
    "### 7.1 Loop over multiple datetimes (plots) <a class=\"anchor\" id=\"loop_datetimes_plots\"></a>\n",
    "\n",
    "This might be useful to either:\n",
    "\n",
    "- read-in an *event catalog*, and loop over those datetimes to quickly get the constellations of all these events,\n",
    "- create a series of daily constellation plots, and combine them into one animation:"
   ]
  },
  {
   "cell_type": "code",
   "execution_count": null,
   "id": "65",
   "metadata": {},
   "outputs": [],
   "source": [
    "body_list = ['Mercury', 'Venus', 'Earth', 'Mars', 'STEREO A', 'STEREO B', 'Solar Orbiter', 'PSP', 'BepiColombo']\n",
    "vsw_list = len(body_list) * [350]   # position-sensitive solar wind speed per body in body_list\n",
    "plot_spirals = True                 # plot Parker spirals for each body\n",
    "plot_sun_body_line = False          # plot straight line between Sun and body\n",
    "transparent = False                 # make output figure background transparent\n",
    "markers = 'numbers'                 # use 'numbers' or 'letters' for the body markers (use False for colored squares)\n",
    "\n",
    "for i in range(2,19,1):    \n",
    "    j = str(i).rjust(2, '0')\n",
    "    date = f'2022-6-{j} 12:00:00'\n",
    "    filename = f'animate_{date[:-9]}.png'        # define filename of output figure\n",
    "\n",
    "    sm7 = SolarMACH(date=date, body_list=body_list, vsw_list=vsw_list, coord_sys='Stoneyhurst')\n",
    "    sm7.plot(plot_spirals=plot_spirals,\n",
    "             plot_sun_body_line=plot_sun_body_line,\n",
    "             transparent=transparent,\n",
    "             markers=markers,\n",
    "             outfile=filename\n",
    "             )"
   ]
  },
  {
   "cell_type": "markdown",
   "id": "66",
   "metadata": {},
   "source": [
    "Get a sorted list of the files just created using `glob`:"
   ]
  },
  {
   "cell_type": "code",
   "execution_count": null,
   "id": "67",
   "metadata": {},
   "outputs": [],
   "source": [
    "import glob\n",
    "files = sorted(glob.glob(filename.replace(f'{i}', '*')))"
   ]
  },
  {
   "cell_type": "markdown",
   "id": "68",
   "metadata": {},
   "source": [
    "Build an animated GIF out of these files using `imageio`:"
   ]
  },
  {
   "cell_type": "code",
   "execution_count": null,
   "id": "69",
   "metadata": {},
   "outputs": [],
   "source": [
    "import imageio\n",
    "images_data = []\n",
    "for filename in files:\n",
    "    data = imageio.v2.imread(filename)\n",
    "    images_data.append(data)\n",
    "\n",
    "# write to animated gif; duration (in ms) defines how fast the animation is.\n",
    "imageio.mimwrite('solarmach.gif', images_data, format= '.gif', duration=100, loop=0)"
   ]
  },
  {
   "cell_type": "markdown",
   "id": "70",
   "metadata": {},
   "source": [
    "When completed, this will have created an animated GIF file `solarmach.gif` in the same directory as this notebook (as well as a series of files `animate_DATE.png` that can be deleted)."
   ]
  },
  {
   "cell_type": "markdown",
   "id": "71",
   "metadata": {},
   "source": [
    "### 7.2 Loop over multiple datetimes (only data) <a class=\"anchor\" id=\"loop_datetimes_data\"></a>\n",
    "\n",
    "For example, to look for spacecraft alignments, like *\"When are PSP and Solar Orbiter at the same magnetic footpoint?\"*"
   ]
  },
  {
   "cell_type": "code",
   "execution_count": null,
   "id": "72",
   "metadata": {},
   "outputs": [],
   "source": [
    "body_list = ['Mercury', 'Venus', 'Earth', 'Mars', 'STEREO A', 'Solar Orbiter', 'PSP', 'BepiColombo']\n",
    "vsw_list = len(body_list) * [350]  # position-sensitive solar wind speed per body in body_list\n",
    "\n",
    "df = []\n",
    "dates = []\n",
    "for i in range(1,31,1):\n",
    "    date = f'2022-6-{i} 12:00:00'\n",
    "\n",
    "    sm7b = SolarMACH(date=date, body_list=body_list, vsw_list=vsw_list)\n",
    "    df = df + [sm7b.coord_table]\n",
    "    dates = dates + [date]"
   ]
  },
  {
   "cell_type": "code",
   "execution_count": null,
   "id": "73",
   "metadata": {},
   "outputs": [],
   "source": [
    "display(df[0])\n",
    "display(df[1])\n",
    "display(df[2])"
   ]
  },
  {
   "cell_type": "code",
   "execution_count": null,
   "id": "74",
   "metadata": {},
   "outputs": [
    {
     "data": {
      "text/plain": [
       "['2022-6-1 12:00:00',\n",
       " '2022-6-2 12:00:00',\n",
       " '2022-6-3 12:00:00',\n",
       " '2022-6-4 12:00:00',\n",
       " '2022-6-5 12:00:00',\n",
       " '2022-6-6 12:00:00',\n",
       " '2022-6-7 12:00:00',\n",
       " '2022-6-8 12:00:00',\n",
       " '2022-6-9 12:00:00',\n",
       " '2022-6-10 12:00:00',\n",
       " '2022-6-11 12:00:00',\n",
       " '2022-6-12 12:00:00',\n",
       " '2022-6-13 12:00:00',\n",
       " '2022-6-14 12:00:00',\n",
       " '2022-6-15 12:00:00',\n",
       " '2022-6-16 12:00:00',\n",
       " '2022-6-17 12:00:00',\n",
       " '2022-6-18 12:00:00',\n",
       " '2022-6-19 12:00:00',\n",
       " '2022-6-20 12:00:00',\n",
       " '2022-6-21 12:00:00',\n",
       " '2022-6-22 12:00:00',\n",
       " '2022-6-23 12:00:00',\n",
       " '2022-6-24 12:00:00',\n",
       " '2022-6-25 12:00:00',\n",
       " '2022-6-26 12:00:00',\n",
       " '2022-6-27 12:00:00',\n",
       " '2022-6-28 12:00:00',\n",
       " '2022-6-29 12:00:00',\n",
       " '2022-6-30 12:00:00']"
      ]
     },
     "metadata": {},
     "output_type": "display_data"
    }
   ],
   "source": [
    "display(dates)"
   ]
  },
  {
   "cell_type": "markdown",
   "id": "75",
   "metadata": {},
   "source": [
    "---\n",
    "\n",
    "## 8. Interactive 3D figure <a class=\"anchor\" id=\"plot_3d\"></a>\n",
    "\n",
    "Solar-MACH can also provide a fully interactive 3D view of the heliospheric observer situation. This is especially interesting for out of the ecliptic missions like Ulysses or Solar Orbiter.\n",
    "\n",
    "The initialization is the same as for the classic Solar-MACH plot:"
   ]
  },
  {
   "cell_type": "code",
   "execution_count": null,
   "id": "76",
   "metadata": {},
   "outputs": [
    {
     "name": "stderr",
     "output_type": "stream",
     "text": [
      "/Users/jagies/miniforge3/envs/serpentine/lib/python3.12/site-packages/erfa/core.py:133: ErfaWarning: ERFA function \"dtf2d\" yielded 1 of \"dubious year (Note 6)\"\n",
      "  warn(f'ERFA function \"{func_name}\" yielded {wmsg}', ErfaWarning)\n",
      "/Users/jagies/miniforge3/envs/serpentine/lib/python3.12/site-packages/erfa/core.py:133: ErfaWarning: ERFA function \"utctai\" yielded 1 of \"dubious year (Note 3)\"\n",
      "  warn(f'ERFA function \"{func_name}\" yielded {wmsg}', ErfaWarning)\n",
      "/Users/jagies/miniforge3/envs/serpentine/lib/python3.12/site-packages/erfa/core.py:133: ErfaWarning: ERFA function \"taiutc\" yielded 1 of \"dubious year (Note 4)\"\n",
      "  warn(f'ERFA function \"{func_name}\" yielded {wmsg}', ErfaWarning)\n",
      "/Users/jagies/miniforge3/envs/serpentine/lib/python3.12/site-packages/erfa/core.py:133: ErfaWarning: ERFA function \"d2dtf\" yielded 1 of \"dubious year (Note 5)\"\n",
      "  warn(f'ERFA function \"{func_name}\" yielded {wmsg}', ErfaWarning)\n"
     ]
    }
   ],
   "source": [
    "date = '2030-7-1 13:00:00'\n",
    "body_list = ['Earth', 'Mars', 'Venus', 'Solar Orbiter']\n",
    "vsw_list = len(body_list) * [350]\n",
    "sm8 = SolarMACH(date=date, body_list=body_list, vsw_list=vsw_list)"
   ]
  },
  {
   "cell_type": "markdown",
   "id": "77",
   "metadata": {},
   "source": [
    "Now, instead of `sm8.plot()`, `sm8.plot_3d()` is used. It has partly the same options, but also some new ones:\n"
   ]
  },
  {
   "cell_type": "code",
   "execution_count": null,
   "id": "78",
   "metadata": {},
   "outputs": [],
   "source": [
    "sm8.plot_3d?"
   ]
  },
  {
   "cell_type": "markdown",
   "id": "79",
   "metadata": {},
   "source": [
    "The resulting figure can be tilted/rotated (panned) by pressing the left (right) mouse botton and moving it. Mouse wheel zooms in and out."
   ]
  },
  {
   "cell_type": "code",
   "execution_count": null,
   "id": "80",
   "metadata": {},
   "outputs": [
    {
     "name": "stderr",
     "output_type": "stream",
     "text": [
      "/Users/jagies/miniforge3/envs/serpentine/lib/python3.12/site-packages/erfa/core.py:133: ErfaWarning:\n",
      "\n",
      "ERFA function \"d2dtf\" yielded 1 of \"dubious year (Note 5)\"\n",
      "\n"
     ]
    }
   ],
   "source": [
    "fig = sm8.plot_3d(plot_spirals=True, plot_sun_body_line=True, plot_vertical_line=True, markers=False,\n",
    "                  plot_equatorial_plane=True, plot_3d_grid=False, reference_vsw=400, return_plot_object=True)"
   ]
  },
  {
   "cell_type": "markdown",
   "id": "81",
   "metadata": {},
   "source": [
    "Unfortunately, the integrated function to save the figure as PNG only saves the starting view. If you adjusted the view with the mouse, you have to make a screenshot to save it as of now.\n",
    "\n",
    "But the interactive 3D figure can be saved and shared as an HTML file. Saving it with `include_plotlyjs='cdn'` requires an internet connection when openining, but the file size will be smaller. `include_plotlyjs=True` increases the file size, but returns an offline-viewable HTML file.\n"
   ]
  },
  {
   "cell_type": "code",
   "execution_count": null,
   "id": "82",
   "metadata": {},
   "outputs": [],
   "source": [
    "fig.write_html(\"solarmach.html\", include_plotlyjs='cdn')"
   ]
  },
  {
   "cell_type": "markdown",
   "id": "83",
   "metadata": {},
   "source": [
    "---\n",
    "\n",
    "## 9. Further backmapping with PFSS <a class=\"anchor\" id=\"pfss\"></a>\n",
    "\n",
    "A recent extension to Solar-MACH is the ability to further extend the magnetic connection of an observer to the close vicinity of the Sun using a [Potential Field Source Surface (PFSS)](https://nso.edu/data/nisp-data/pfss/) model that connects the heliospheric magnetic field (HMF) to the solar corona. "
   ]
  },
  {
   "cell_type": "markdown",
   "id": "84",
   "metadata": {},
   "source": [
    "Let's first load again Solar-MACH for the April 17, 2021 event. We will use the outputs of it as inputs for the PFSS model.\n",
    "\n",
    "Note that we do not pre-define the solar wind speeds per spacecraft with `vsw_list`, but use the interal function to try to obtain the actual measured values."
   ]
  },
  {
   "cell_type": "code",
   "execution_count": null,
   "id": "85",
   "metadata": {},
   "outputs": [
    {
     "name": "stdout",
     "output_type": "stream",
     "text": [
      "No solar wind speeds defined, trying to obtain measurements...\n",
      "Using 'ACE' measurements for 'Earth'.\n",
      "Body 'BepiColombo' not supported, assuming default Vsw value of 400.0 km/s.\n"
     ]
    },
    {
     "name": "stderr",
     "output_type": "stream",
     "text": [
      "/Users/jagies/miniforge3/envs/serpentine/lib/python3.12/site-packages/speasy/core/data_containers.py:17: UserWarning: no explicit representation of timezones available for np.datetime64\n",
      "  return np.searchsorted(time, np.datetime64(key, 'ns'), side='left')\n"
     ]
    }
   ],
   "source": [
    "date = '2021-4-17 13:00:00'\n",
    "body_list = ['STEREO-A', 'PSP', 'Earth', 'BepiColombo', 'Solar Orbiter']\n",
    "coord_sys = 'Carrington'  # 'Stonyhurst' or 'Carrington'\n",
    "\n",
    "sm9 = SolarMACH(date=date, body_list=body_list, coord_sys=coord_sys)"
   ]
  },
  {
   "cell_type": "markdown",
   "id": "86",
   "metadata": {},
   "source": [
    "### First acquire a GONG (Global Oscillation Network Group) map of the Sun's surface"
   ]
  },
  {
   "cell_type": "code",
   "execution_count": null,
   "id": "87",
   "metadata": {},
   "outputs": [
    {
     "name": "stdout",
     "output_type": "stream",
     "text": [
      "Automatic file search based on given time found /Users/jagies/uni/serpentine/solarmach/examples/mrzqs210417t1304c2243_256.fits.gz\n"
     ]
    }
   ],
   "source": [
    "gong_map = get_gong_map(time=date, filepath=None)"
   ]
  },
  {
   "cell_type": "code",
   "execution_count": null,
   "id": "88",
   "metadata": {},
   "outputs": [
    {
     "name": "stderr",
     "output_type": "stream",
     "text": [
      "2025-05-06 12:18:00 - sunpy - INFO: Missing metadata for solar radius: assuming the standard radius of the photosphere.\n"
     ]
    },
    {
     "name": "stdout",
     "output_type": "stream",
     "text": [
      "INFO: Missing metadata for solar radius: assuming the standard radius of the photosphere. [sunpy.map.mapbase]\n"
     ]
    }
   ],
   "source": [
    "display(gong_map)"
   ]
  },
  {
   "cell_type": "markdown",
   "id": "89",
   "metadata": {},
   "source": [
    "### Based on the map and a boundary condition, calculate a pfss solution\n",
    "\n",
    "Note that depending on the computer used, this process can take up to a few minutes."
   ]
  },
  {
   "cell_type": "code",
   "execution_count": null,
   "id": "90",
   "metadata": {},
   "outputs": [],
   "source": [
    "# Set the height of the source surface as a boundary condition for pfss extrapolation\n",
    "rss = 2.5"
   ]
  },
  {
   "cell_type": "markdown",
   "id": "91",
   "metadata": {},
   "source": [
    "Note that you *have to* define the coordinate system to be used. This has to be the same one as for initializing `SolarMACH(date=date, body_list=body_list, coord_sys=coord_sys)`; the default for that is `coord_sys='Carrington'`. The system will complain while plotting if the coordinate systems do not agree."
   ]
  },
  {
   "cell_type": "code",
   "execution_count": null,
   "id": "92",
   "metadata": {},
   "outputs": [
    {
     "name": "stderr",
     "output_type": "stream",
     "text": [
      "2025-05-06 12:18:03 - reproject.common - INFO: Calling _reproject_full in non-dask mode\n",
      "2025-05-06 12:18:03 - sunpy - INFO: Missing metadata for solar radius: assuming the standard radius of the photosphere.\n"
     ]
    },
    {
     "name": "stdout",
     "output_type": "stream",
     "text": [
      "INFO: Missing metadata for solar radius: assuming the standard radius of the photosphere. [sunpy.map.mapbase]\n"
     ]
    }
   ],
   "source": [
    "# Calculate the potential field source surface solution. \n",
    "pfss_solution = calculate_pfss_solution(gong_map=gong_map, rss=rss, coord_sys=coord_sys)"
   ]
  },
  {
   "cell_type": "markdown",
   "id": "93",
   "metadata": {},
   "source": [
    "### Generate a semi-logarithmic PFSS plot (can take a minute)\n",
    "Note that the output figure combines linear and logarithmic scaling for the radial axis: Up to the PFSS at (usually) 2.5 solar radii the figure uses a linear scaling, whereas the main part of the heliosphere is shown with a logarithmic scale in radial distance. This allows to highlight the magnetic connections close to the Sun, while maintaining the connection further out in interplanetary space. The color coding below the PFSS indicates the corresponding latitudes.\n",
    "\n",
    ">Note: 'vary' is a boolean variable that controls if a flux rope should also be calculated around the point at which ballistic backmapping intersects with the source surface. Enabling this option increases computation time."
   ]
  },
  {
   "cell_type": "code",
   "execution_count": null,
   "id": "94",
   "metadata": {},
   "outputs": [
    {
     "data": {
      "application/vnd.jupyter.widget-view+json": {
       "model_id": "a4c6fb4e71914bfe9bf6b238e9737ad8",
       "version_major": 2,
       "version_minor": 0
      },
      "text/plain": [
       "  0%|          | 0/5 [00:00<?, ?it/s]"
      ]
     },
     "metadata": {},
     "output_type": "display_data"
    }
   ],
   "source": [
    "sm9.plot_pfss(rss=rss, pfss_solution=pfss_solution, markers='numbers', vary=True)"
   ]
  },
  {
   "cell_type": "markdown",
   "id": "95",
   "metadata": {},
   "source": [
    "And obtain the data as a Pandas DataFrame:"
   ]
  },
  {
   "cell_type": "code",
   "execution_count": null,
   "id": "96",
   "metadata": {},
   "outputs": [],
   "source": [
    "display(sm9.coord_table)"
   ]
  },
  {
   "cell_type": "markdown",
   "id": "97",
   "metadata": {},
   "source": [
    "### Look into the sub-pfss field lines with 3D view"
   ]
  },
  {
   "cell_type": "code",
   "execution_count": null,
   "id": "98",
   "metadata": {},
   "outputs": [],
   "source": [
    "fig = sm9.pfss_3d(color_code=\"object\", return_plot_object=True)"
   ]
  },
  {
   "cell_type": "markdown",
   "id": "99",
   "metadata": {},
   "source": [
    "Save interactive 3D figure as an HTML file that can be shared. Saving it with `include_plotlyjs='cdn'` requires an internet connection when openining, but the file size will be smaller. `include_plotlyjs=True` increases the file size, but returns an offline-viewable HTML file."
   ]
  },
  {
   "cell_type": "code",
   "execution_count": null,
   "id": "100",
   "metadata": {},
   "outputs": [],
   "source": [
    "fig.write_html(\"solarmach.html\", include_plotlyjs='cdn')"
   ]
  }
 ],
 "metadata": {
  "deepnote": {},
  "deepnote_execution_queue": [],
  "deepnote_notebook_id": "032eb1b4-742e-49c6-be73-c3f49f11f103",
  "kernelspec": {
   "display_name": "Python 3 (ipykernel)",
   "language": "python",
   "name": "python3"
  },
  "language_info": {
   "codemirror_mode": {
    "name": "ipython",
    "version": 3
   },
   "file_extension": ".py",
   "mimetype": "text/x-python",
   "name": "python",
   "nbconvert_exporter": "python",
   "pygments_lexer": "ipython3",
   "version": "3.12.5"
  }
 },
 "nbformat": 4,
 "nbformat_minor": 5
}
